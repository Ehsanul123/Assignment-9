{
 "cells": [
  {
   "cell_type": "code",
   "execution_count": null,
   "id": "48586bf7",
   "metadata": {},
   "outputs": [],
   "source": [
    "#1:\n",
    "Relative_path:A relative file path is interpreted from the perspective your current working directory. \n",
    "If you use a relative file path from the wrong directory, then the path will refer to a different file than you intend,\n",
    "or it will refer to no file at all\n",
    "relative_path = os.path.relpath(path, start)"
   ]
  },
  {
   "cell_type": "code",
   "execution_count": null,
   "id": "fec0112e",
   "metadata": {},
   "outputs": [],
   "source": [
    "#2:\n",
    "Absolute_path:An absolute file path describes how to access a given file or directory, starting from the root of the file system\n",
    "C:/system32/cmd.exe"
   ]
  },
  {
   "cell_type": "code",
   "execution_count": null,
   "id": "6b815af3",
   "metadata": {},
   "outputs": [],
   "source": [
    "#3:\n",
    "os.getcwd() :This function allows you to see what your current working directory is. cwd stands for Current Working Directory. \n",
    "os.chdir()  :This function allows you to set the current working directory to a path of your choice.Short for Change Directory. "
   ]
  },
  {
   "cell_type": "code",
   "execution_count": null,
   "id": "a37580c9",
   "metadata": {},
   "outputs": [],
   "source": [
    "#4:\n",
    ". means 'the current folder'.\n",
    ".. means 'the folder containing the current folder'."
   ]
  },
  {
   "cell_type": "code",
   "execution_count": null,
   "id": "9237d5a5",
   "metadata": {},
   "outputs": [],
   "source": [
    "#5:\n",
    "C:\\bacon\\eggs\\spam.txt : \n",
    "C:\\bacon\\eggs is the dir name, while spam. txt is the base name"
   ]
  },
  {
   "cell_type": "code",
   "execution_count": null,
   "id": "6bcb55bf",
   "metadata": {},
   "outputs": [],
   "source": [
    "#6:\n",
    "three “mode” arguments that can be passed to the open() function.\n",
    "r : Opens the file in read-only mode\n",
    "rb : Opens the file as read-only in binary format and starts reading from the beginning of the file\n",
    "r+ : Opens a file for reading and writing, placing the pointer at the beginning of the file"
   ]
  },
  {
   "cell_type": "code",
   "execution_count": null,
   "id": "798ce255",
   "metadata": {},
   "outputs": [],
   "source": [
    "#7:\n",
    "If an existing file is opened in write mode,its contents are discarded and the file is treated as a new empty file."
   ]
  },
  {
   "cell_type": "code",
   "execution_count": null,
   "id": "4f660872",
   "metadata": {},
   "outputs": [],
   "source": [
    "#8:\n",
    "Read is used to read only single character from the standard output device, while\n",
    "ReadLine is used to read a line or string from the standard output device\n",
    "line = file.readline()\n",
    "content = file.read()"
   ]
  },
  {
   "cell_type": "code",
   "execution_count": null,
   "id": "a12c5c8e",
   "metadata": {},
   "outputs": [],
   "source": [
    "#9:\n",
    "shelf value resembles  : A shelf value resembles a dictionary value; it has keys and values, \n",
    "along with keys() and values() methods that work similarly to the dictionary methods of the same names"
   ]
  },
  {
   "cell_type": "code",
   "execution_count": null,
   "id": "df7ccd64",
   "metadata": {},
   "outputs": [],
   "source": []
  }
 ],
 "metadata": {
  "kernelspec": {
   "display_name": "Python 3 (ipykernel)",
   "language": "python",
   "name": "python3"
  },
  "language_info": {
   "codemirror_mode": {
    "name": "ipython",
    "version": 3
   },
   "file_extension": ".py",
   "mimetype": "text/x-python",
   "name": "python",
   "nbconvert_exporter": "python",
   "pygments_lexer": "ipython3",
   "version": "3.9.7"
  }
 },
 "nbformat": 4,
 "nbformat_minor": 5
}
